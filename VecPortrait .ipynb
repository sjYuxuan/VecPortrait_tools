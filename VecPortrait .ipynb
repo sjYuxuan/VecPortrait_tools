{
  "nbformat": 4,
  "nbformat_minor": 0,
  "metadata": {
    "colab": {
      "name": "VecPortrait.ipynb",
      "provenance": [],
      "collapsed_sections": []
    },
    "kernelspec": {
      "name": "python3",
      "display_name": "Python 3"
    },
    "language_info": {
      "name": "python"
    },
    "accelerator": "GPU",
    "gpuClass": "standard"
  },
  "cells": [
    {
      "cell_type": "code",
      "source": [
        "# Download Miniconda installation script\n",
        "!wget https://repo.anaconda.com/miniconda/Miniconda3-latest-Linux-x86_64.sh\n",
        "# Make it executable\n",
        "!chmod +x Miniconda3-latest-Linux-x86_64.sh\n",
        "# Start installation in silent mode\n",
        "!bash ./Miniconda3-latest-Linux-x86_64.sh -b -f -p /usr/local\n",
        "# Make conda packages available in current environmentimport \n",
        "import sys\n",
        "sys.path.append('/usr/local/lib/python3.7/site-packages/')\n",
        "!git clone https://github.com/BachiLi/diffvg\n",
        "%cd diffvg\n",
        "!git submodule update --init --recursive\n",
        "!conda install -y pytorch torchvision -c pytorch\n",
        "!conda install -y numpy\n",
        "!conda install -y scikit-image\n",
        "!conda install -y -c anaconda cmake\n",
        "!conda install -y -c conda-forge ffmpeg\n",
        "!pip install svgwrite\n",
        "!pip install svgpathtools\n",
        "!pip install cssutils\n",
        "!pip install numba\n",
        "!pip install torch-tools\n",
        "!pip install visdom\n",
        "!python setup.py install\n",
        "!pip install ftfy regex tqdm      \n",
        "!pip install git+https://github.com/openai/CLIP.git --no-deps\n",
        "!git clone https://github.com/sjYuxuan/VecPortrait_tools.git"
      ],
      "metadata": {
        "id": "3qCvRr3gX0pN"
      },
      "execution_count": null,
      "outputs": []
    },
    {
      "cell_type": "code",
      "source": [
        "!pip install opencv-python\n",
        "!pip install sklearn\n",
        "!pip install ipykernel"
      ],
      "metadata": {
        "id": "UdgEVOCdX7ST"
      },
      "execution_count": null,
      "outputs": []
    },
    {
      "cell_type": "code",
      "source": [
        "import os\n",
        "path=\"/content/diffvg/VecPortrait_tools/\"\n",
        "os.chdir(path)\n",
        "os.listdir(path)\n",
        "! chmod +x job_example.sh\n",
        "!./job_example.sh"
      ],
      "metadata": {
        "id": "DZe5OF-nYFRk"
      },
      "execution_count": null,
      "outputs": []
    }
  ]
}